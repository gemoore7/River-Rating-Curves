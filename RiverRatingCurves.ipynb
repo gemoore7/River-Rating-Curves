{
 "cells": [
  {
   "cell_type": "code",
   "execution_count": null,
   "id": "ed09ba89-5a18-4aea-baf9-0085c84cf03c",
   "metadata": {},
   "outputs": [],
   "source": [
    "\"\"\"\n",
    "This code has been made to calculate a rating curve for a river given its water discharge data Q_w (m/s) and suspended sediment\n",
    "concentration data Q_s (mg/L). The rating curve is based on the following equation:\n",
    "\n",
    "a*Q_s**b\n",
    "\n",
    "Where \"a\" and \"b\" are calculated regression coefficients. The code assumes the read-in file is a .csv file from a USGS dataset. Q_w vs Q_s \n",
    "datapoints should share a date- if this data was not collected on the same date, additional datetime interpolation may be required.\n",
    "\"\"\""
   ]
  },
  {
   "cell_type": "code",
   "execution_count": null,
   "id": "7feb9d5e-1b98-4ead-869d-68a5ec79f4b3",
   "metadata": {},
   "outputs": [],
   "source": [
    "import numpy as np\n",
    "import pandas as pd\n",
    "from datetime import datetime, timedelta\n",
    "import matplotlib.pyplot as plt\n",
    "from scipy.optimize import curve_fit"
   ]
  },
  {
   "cell_type": "code",
   "execution_count": null,
   "id": "21f0678f-3bd9-4763-9a46-a09a4cf0385e",
   "metadata": {},
   "outputs": [],
   "source": [
    "#Read in your file:\n",
    "River = pd.read_csv('../Data/RiverData.csv', delim_whitespace=False)\n",
    "\n",
    "#Format datetime:\n",
    "River['datetime'] = River['Activity_StartDate']\n",
    "River['datetime'] = River['datetime'].astype('datetime64[ns]')"
   ]
  },
  {
   "cell_type": "code",
   "execution_count": null,
   "id": "cf376a21-3666-484a-8141-e2b2d880050a",
   "metadata": {},
   "outputs": [],
   "source": [
    "#If needed, separate the suspended sediment data and the water discharge data: \n",
    "River_SSC = River[(River['Result_Characteristic'] == 'Suspended Sediment Concentration (SSC)')\n",
    "River_Q = River[River['Result_Characteristic'] == 'Stream flow, instantaneous']"
   ]
  },
  {
   "cell_type": "code",
   "execution_count": null,
   "id": "3b40ef18-2b4b-4c83-bd06-f49c3b39d21b",
   "metadata": {},
   "outputs": [],
   "source": [
    "# Merge River_Q and River_SSC on the 'datetime' column to find matching dates. \n",
    "River_Combined = pd.merge(River_Q, River_SSC, on='datetime')\n",
    "\n",
    "#Plot SSC vs Q:\n",
    "fig, ax1 = plt.subplots(figsize=(5,5), sharex=True)\n",
    "ax1.scatter(River_Combined['Result_Measure_x'], River_Combined['Result_Measure_y'])           \n",
    "ax1.set_yscale('log')\n",
    "ax1.set_xscale('log')\n",
    "ax1.set_title('River SSC vs Q')\n",
    "ax1.set_xlabel('Q (m/s)')\n",
    "ax1.set_ylabel('SSC (mg/L)')\n",
    "\n",
    "#Create rating curve using the eqaution a*Q**b: \n",
    "def power_law(Q_River, a_River, b_River):\n",
    "    return a_River*Q_River**b_River\n",
    "\n",
    "#popt contains optimal values for best fitting the data, pcov estimates uncertainty.\n",
    "popt, pcov = curve_fit(power_law, Q_River, River_Combined['Result_Measure_y'])\n",
    "a_River, b_River = popt\n",
    "\n",
    "print(f\"River Estimated a: {a_River}\")\n",
    "print(f\"River Estimated b: {b_River}\")\n",
    "\n",
    "#Plot trendline based on found values for \"a\" and \"b\":\n",
    "y_fit = power_law(Q_River, *popt)\n",
    "ax1.plot(Q_River, y_fit, label=f'Fit: a={a_River:.3f}, b={b_River:.3f}', color='blue')\n",
    "ax1.legend()"
   ]
  }
 ],
 "metadata": {
  "kernelspec": {
   "display_name": "Python 3 (ipykernel)",
   "language": "python",
   "name": "python3"
  },
  "language_info": {
   "codemirror_mode": {
    "name": "ipython",
    "version": 3
   },
   "file_extension": ".py",
   "mimetype": "text/x-python",
   "name": "python",
   "nbconvert_exporter": "python",
   "pygments_lexer": "ipython3",
   "version": "3.11.5"
  }
 },
 "nbformat": 4,
 "nbformat_minor": 5
}
